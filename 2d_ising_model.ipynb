{
  "nbformat": 4,
  "nbformat_minor": 0,
  "metadata": {
    "colab": {
      "name": "2d_ising_model.ipynb",
      "provenance": [],
      "collapsed_sections": [],
      "include_colab_link": true
    },
    "interpreter": {
      "hash": "61b60640f37dac9d6ee38c014c582c20041c0d323a7331bae7752ab515b24119"
    },
    "kernelspec": {
      "display_name": "Python 3.9.7 64-bit",
      "name": "python3"
    },
    "language_info": {
      "codemirror_mode": {
        "name": "ipython",
        "version": 3
      },
      "file_extension": ".py",
      "mimetype": "text/x-python",
      "name": "python",
      "nbconvert_exporter": "python",
      "pygments_lexer": "ipython3",
      "version": "3.9.7"
    }
  },
  "cells": [
    {
      "cell_type": "markdown",
      "metadata": {
        "id": "view-in-github",
        "colab_type": "text"
      },
      "source": [
        "<a href=\"https://colab.research.google.com/github/MohammadKhaledi/ising_model_mc/blob/main/2d_ising_model.ipynb\" target=\"_parent\"><img src=\"https://colab.research.google.com/assets/colab-badge.svg\" alt=\"Open In Colab\"/></a>"
      ]
    },
    {
      "cell_type": "code",
      "metadata": {
        "id": "-62eoOXcpDzo"
      },
      "source": [
        "import numpy as np\n",
        "from numpy import exp\n",
        "from numpy import pi\n",
        "import matplotlib.pyplot as plt\n",
        "from matplotlib.pyplot import figure\n",
        "from tqdm import tqdm"
      ],
      "execution_count": null,
      "outputs": []
    },
    {
      "cell_type": "code",
      "metadata": {
        "id": "Vr24agJKpDzs"
      },
      "source": [
        "N = 32\n",
        "mc_step = 6000000\n",
        "mc_eq = 3000000\n",
        "Temp = np.linspace(0.01, 4, 100)"
      ],
      "execution_count": null,
      "outputs": []
    },
    {
      "cell_type": "code",
      "metadata": {
        "id": "YsvsKYPZpDzt"
      },
      "source": [
        "def calculate_energy(config):\n",
        "    energy = 0\n",
        "    N = len(config)\n",
        "    for i in range(0, len(config)):\n",
        "        for j in range(0, len(config)):\n",
        "            energy += (-1)*config[i][j]*(config[(i+1)%N][j] + \n",
        "                                         config[(i-1)%N][j] +\n",
        "                                         config[i][(j+1)%N] +\n",
        "                                         config[i][(j-1)%N])  \n",
        "    return energy/4"
      ],
      "execution_count": null,
      "outputs": []
    },
    {
      "cell_type": "code",
      "metadata": {
        "id": "Q9INqFurpDzu"
      },
      "source": [
        "def monte_carlo(config, temperature, en, mag):\n",
        "    current_energy = en\n",
        "    energy = en\n",
        "    N = len(config)\n",
        "    spin_x = np.random.randint(0, N)\n",
        "    spin_y = np.random.randint(0, N)\n",
        "    S12 = (-1)*config[spin_x][spin_y] * config[(spin_x-1)%N][spin_y]\n",
        "    S23 = (-1)*config[spin_x][spin_y] * config[(spin_x+1)%N][spin_y]\n",
        "    S24 = (-1)*config[spin_x][spin_y] * config[spin_x][(spin_y-1)%N]\n",
        "    S25 = (-1)*config[spin_x][spin_y] * config[spin_x][(spin_y+1)%N]\n",
        "    del_E = 2*(S12 + S23 + S24 + S25)\n",
        "    if( (del_E >= 0) or (exp(del_E/temperature) >= np.random.uniform(0, 1)) ):\n",
        "        if(S12 > 0): energy -= 1\n",
        "        if(S12 < 0): energy += 1\n",
        "        if(S23 > 0): energy -= 1\n",
        "        if(S23 < 0): energy += 1\n",
        "        if(S24 > 0): energy -= 1\n",
        "        if(S24 < 0): energy += 1\n",
        "        if(S25 > 0): energy -= 1\n",
        "        if(S25 < 0): energy += 1\n",
        "                \n",
        "        config[spin_x][spin_y] = (-1)*config[spin_x][spin_y]\n",
        "        S12 = (-1)*config[spin_x][spin_y] * config[(spin_x-1)%N][spin_y]\n",
        "        S23 = (-1)*config[spin_x][spin_y] * config[(spin_x+1)%N][spin_y]\n",
        "        S24 = (-1)*config[spin_x][spin_y] * config[spin_x][(spin_y-1)%N]\n",
        "        S25 = (-1)*config[spin_x][spin_y] * config[spin_x][(spin_y+1)%N]\n",
        "        current_energy = energy + S12 + S23 + S24 + S25\n",
        "        mag += 2 * config[spin_x][spin_y]\n",
        "\n",
        "    return current_energy, mag, config"
      ],
      "execution_count": null,
      "outputs": []
    },
    {
      "cell_type": "code",
      "metadata": {
        "id": "r_ZKs6QfpDzw"
      },
      "source": [
        "  def magnetization(config):\n",
        "      return np.sum(config)"
      ],
      "execution_count": null,
      "outputs": []
    },
    {
      "cell_type": "code",
      "metadata": {
        "colab": {
          "base_uri": "https://localhost:8080/"
        },
        "id": "ioc0ApGspDzx",
        "outputId": "0407fb0d-5961-470c-92cb-37bdd710e841"
      },
      "source": [
        "Energy_tt = np.zeros(len(Temp))\n",
        "Mag_tt = np.zeros(len(Temp))\n",
        "C_tt = np.zeros(len(Temp))\n",
        "X_tt = np.zeros(len(Temp))\n",
        "for i in tqdm(range(len(Temp))):\n",
        "    E = 0\n",
        "    M = 0\n",
        "    E2 = 0\n",
        "    M2 = 0\n",
        "    temp = Temp[i]\n",
        "    config = 2*np.random.randint(2, size=(N, N)) - 1\n",
        "    current_energy = calculate_energy(config)\n",
        "    current_magentization = magnetization(config)\n",
        "    \n",
        "    for step in range(mc_eq):\n",
        "        en, mag, config = monte_carlo(config, temp, current_energy, current_magentization)\n",
        "        current_energy = en\n",
        "        current_magentization = mag\n",
        "\n",
        "    for step in range(mc_step):\n",
        "        en, mag, config = monte_carlo(config, temp, current_energy, current_magentization)\n",
        "        current_energy = en\n",
        "        current_magentization = mag\n",
        "        E += en\n",
        "        E2 += en*en\n",
        "        M += mag\n",
        "        M2 += mag**2\n",
        "        \n",
        "    E /= mc_step\n",
        "    M /= mc_step\n",
        "    E2 /= mc_step\n",
        "    M2 /= mc_step\n",
        "    beta = 1/temp\n",
        "    Energy_tt[i] += E/(N**2)\n",
        "    Mag_tt[i] += M/(N**2)\n",
        "    C_tt[i] += ( (beta**2) * (E2 - (E**2)) )/(N**2)\n",
        "    X_tt[i] += (  beta * (M2 - (M**2)) )/(N**2)\n"
      ],
      "execution_count": null,
      "outputs": [
        {
          "output_type": "stream",
          "name": "stderr",
          "text": [
            "100%|██████████| 100/100 [6:00:38<00:00, 216.39s/it]\n"
          ]
        }
      ]
    },
    {
      "cell_type": "code",
      "metadata": {
        "id": "xeRoIjftpDz4",
        "colab": {
          "base_uri": "https://localhost:8080/",
          "height": 677
        },
        "outputId": "cf3c9218-0608-48d6-f9f5-c42b9ab1d7ab"
      },
      "source": [
        "fig1 = figure(figsize=(18, 10))\n",
        "fig1.suptitle(f'2D Ising Model for Lattice Size {32}X{32} ', fontsize=20)\n",
        "\n",
        "ax1 = fig1.add_subplot(221)\n",
        "plt.xlim(1, 3)\n",
        "plt.ylabel(\"Energy\", fontsize=10)\n",
        "plt.xlabel(\"Temperature\", fontsize=10)\n",
        "plt.grid()\n",
        "plt.plot(Temp, Energy_tt, 'o', color='blue')\n",
        "\n",
        "ax2 = fig1.add_subplot(222)\n",
        "plt.xlim(1, 3)\n",
        "plt.ylabel(\"Magnetization\", fontsize=10)\n",
        "plt.xlabel(\"Temperature\", fontsize=10)\n",
        "plt.grid()\n",
        "plt.plot(Temp,np.abs(Mag_tt), 'o', color='red')\n",
        "\n",
        "ax3 = fig1.add_subplot(223)\n",
        "plt.xlim(2, 3)\n",
        "plt.ylabel(\"Specific Heat\", fontsize=10)\n",
        "plt.xlabel(\"Temperature\", fontsize=10)\n",
        "plt.plot(Temp, C_tt, 'o', color='green')\n",
        "plt.grid()\n",
        "\n",
        "ax4 = fig1.add_subplot(224)\n",
        "plt.xlim(2, 3)\n",
        "plt.ylabel(\"Susceptibility\", fontsize=10)\n",
        "plt.xlabel(\"Temperature\", fontsize=10)\n",
        "plt.plot(Temp, X_tt, 'o', color='purple')\n",
        "plt.grid()"
      ],
      "execution_count": 31,
      "outputs": [
        {
          "output_type": "display_data",
          "data": {
            "image/png": "[encoded data removed]",
            "text/plain": [
              "<Figure size 1296x720 with 4 Axes>"
            ]
          },
          "metadata": {
            "needs_background": "light"
          }
        }
      ]
    },
    {
      "cell_type": "code",
      "metadata": {
        "id": "1vlxJCjRGGt9"
      },
      "source": [
        ""
      ],
      "execution_count": null,
      "outputs": []
    }
  ]
}